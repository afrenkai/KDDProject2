{
 "cells": [
  {
   "cell_type": "code",
   "id": "initial_id",
   "metadata": {
    "collapsed": true,
    "ExecuteTime": {
     "end_time": "2024-09-29T01:21:51.889830Z",
     "start_time": "2024-09-29T01:21:48.684364Z"
    }
   },
   "source": [
    "import tensorflow as tf\n",
    "import numpy as np\n",
    "from datasets import load_dataset"
   ],
   "outputs": [],
   "execution_count": 1
  },
  {
   "metadata": {
    "ExecuteTime": {
     "end_time": "2024-09-29T01:21:56.508472Z",
     "start_time": "2024-09-29T01:21:53.020648Z"
    }
   },
   "cell_type": "code",
   "source": "ds = load_dataset(\"jlbaker361/wikiart\")",
   "id": "a6b9615ffef7cb65",
   "outputs": [],
   "execution_count": 2
  },
  {
   "metadata": {},
   "cell_type": "code",
   "outputs": [],
   "execution_count": null,
   "source": [
    "# constants\n",
    "HEIGHT = 64\n",
    "WIDTH = 64\n",
    "CHANNELS = 3\n",
    "BATCH_SIZE = 32"
   ],
   "id": "4dfbeefe19b6bc26"
  },
  {
   "metadata": {},
   "cell_type": "markdown",
   "source": "# Image Size Normalization, Augumentation\n",
   "id": "b32d89527e211835"
  },
  {
   "metadata": {
    "ExecuteTime": {
     "end_time": "2024-09-29T01:24:49.663824Z",
     "start_time": "2024-09-29T01:24:18.356981Z"
    }
   },
   "cell_type": "code",
   "source": [
    "\n",
    "train_ds = ds['train'].select(range(5000))\n",
    "def convert_img(x):\n",
    "    import numpy as np  #subprocesses lmao\n",
    "    HEIGHT = 64\n",
    "    WIDTH = 64\n",
    "    x['img_pixels'] = np.array(x['image'].resize((WIDTH, HEIGHT))).reshape(-1)/255\n",
    "    return x\n",
    "\n",
    "train_ds = train_ds.map(convert_img, num_proc=4)\n",
    "train_ds = train_ds.filter(lambda x: len(x['img_pixels']) == HEIGHT*WIDTH*3)"
   ],
   "id": "328b9a999bc6521f",
   "outputs": [
    {
     "data": {
      "text/plain": [
       "Map (num_proc=4):   0%|          | 0/5000 [00:00<?, ? examples/s]"
      ],
      "application/vnd.jupyter.widget-view+json": {
       "version_major": 2,
       "version_minor": 0,
       "model_id": "82a19e9632834a3cb963417044fbe13a"
      }
     },
     "metadata": {},
     "output_type": "display_data"
    },
    {
     "data": {
      "text/plain": [
       "Filter:   0%|          | 0/5000 [00:00<?, ? examples/s]"
      ],
      "application/vnd.jupyter.widget-view+json": {
       "version_major": 2,
       "version_minor": 0,
       "model_id": "8eb039df02144e1c905dee2a166b0635"
      }
     },
     "metadata": {},
     "output_type": "display_data"
    }
   ],
   "execution_count": 7
  },
  {
   "metadata": {
    "ExecuteTime": {
     "end_time": "2024-09-29T01:32:37.081356Z",
     "start_time": "2024-09-29T01:31:08.533434Z"
    }
   },
   "cell_type": "code",
   "source": [
    "def augment_with_tf(image):\n",
    "    image = tf.reshape(image, [HEIGHT, WIDTH, CHANNELS])\n",
    "    image = tf.image.random_flip_left_right(image)\n",
    "    image = tf.image.rot90(image, k=tf.random.uniform(shape=[], minval=0, maxval=4, dtype=tf.int32))\n",
    "    image = tf.image.random_brightness(image, max_delta=0.1)\n",
    "    image = tf.image.random_contrast(image, lower=0.8, upper=1.2)\n",
    "    return image\n"
   ],
   "id": "d6639a03800bce78",
   "outputs": [
    {
     "data": {
      "text/plain": [
       "Map:   0%|          | 0/4989 [00:00<?, ? examples/s]"
      ],
      "application/vnd.jupyter.widget-view+json": {
       "version_major": 2,
       "version_minor": 0,
       "model_id": "188de21215384aa0b27b44ccc5a7cda9"
      }
     },
     "metadata": {},
     "output_type": "display_data"
    }
   ],
   "execution_count": 16
  },
  {
   "metadata": {},
   "cell_type": "code",
   "outputs": [],
   "execution_count": null,
   "source": [
    "def preprocess_and_augment(examples):\n",
    "    examples['img_pixels'] = [augment_with_tf(img) for img in examples['img_pixels']]\n",
    "    return examples"
   ],
   "id": "71b75aefeb546def"
  },
  {
   "metadata": {},
   "cell_type": "code",
   "outputs": [],
   "execution_count": null,
   "source": "train_ds_augmented = train_ds.map(preprocess_and_augment, batched=True)",
   "id": "4b049acc994bdc71"
  },
  {
   "metadata": {},
   "cell_type": "code",
   "outputs": [],
   "execution_count": null,
   "source": [
    "def preprocess_batch(ds, batch_size=BATCH_SIZE):\n",
    "    def generator():\n",
    "        for row in ds:\n",
    "            yield row['img_pixels'], row['label']\n",
    "    dataset = tf.data.Dataset.from_generator(\n",
    "        generator, \n",
    "        output_signature=(\n",
    "            tf.TensorSpec(shape=(HEIGHT, WIDTH, CHANNELS), dtype=tf.float32),  # Image shape\n",
    "            tf.TensorSpec(shape=(), dtype=tf.int64)  # Label shape\n",
    "        )\n",
    "    )\n",
    "    dataset = dataset.shuffle(buffer_size=1000).batch(batch_size)\n",
    "    return dataset"
   ],
   "id": "4687ba6829866fe7"
  },
  {
   "metadata": {},
   "cell_type": "code",
   "outputs": [],
   "execution_count": null,
   "source": "train_dataset = preprocess_batch(train_ds_augmented)",
   "id": "8d8a9648e7a1c7f4"
  },
  {
   "metadata": {
    "ExecuteTime": {
     "end_time": "2024-09-29T01:33:08.348370Z",
     "start_time": "2024-09-29T01:33:08.344208Z"
    }
   },
   "cell_type": "code",
   "source": "train_dataset",
   "id": "9d59db9d61c82dfa",
   "outputs": [
    {
     "data": {
      "text/plain": [
       "<_BatchDataset element_spec=(TensorSpec(shape=(None, 64, 64, 3), dtype=tf.float32, name=None), TensorSpec(shape=(None,), dtype=tf.int64, name=None))>"
      ]
     },
     "execution_count": 17,
     "metadata": {},
     "output_type": "execute_result"
    }
   ],
   "execution_count": 17
  }
 ],
 "metadata": {
  "kernelspec": {
   "display_name": "Python 3",
   "language": "python",
   "name": "python3"
  },
  "language_info": {
   "codemirror_mode": {
    "name": "ipython",
    "version": 2
   },
   "file_extension": ".py",
   "mimetype": "text/x-python",
   "name": "python",
   "nbconvert_exporter": "python",
   "pygments_lexer": "ipython2",
   "version": "2.7.6"
  }
 },
 "nbformat": 4,
 "nbformat_minor": 5
}
