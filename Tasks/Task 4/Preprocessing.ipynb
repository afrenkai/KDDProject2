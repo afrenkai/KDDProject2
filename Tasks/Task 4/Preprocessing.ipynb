{
 "cells": [
  {
   "cell_type": "code",
   "execution_count": 2,
   "id": "initial_id",
   "metadata": {
    "ExecuteTime": {
     "end_time": "2024-09-29T01:21:51.889830Z",
     "start_time": "2024-09-29T01:21:48.684364Z"
    },
    "collapsed": true
   },
   "outputs": [
    {
     "name": "stderr",
     "output_type": "stream",
     "text": [
      "2024-09-30 15:11:12.757968: E external/local_xla/xla/stream_executor/cuda/cuda_fft.cc:485] Unable to register cuFFT factory: Attempting to register factory for plugin cuFFT when one has already been registered\n",
      "2024-09-30 15:11:12.767545: E external/local_xla/xla/stream_executor/cuda/cuda_dnn.cc:8454] Unable to register cuDNN factory: Attempting to register factory for plugin cuDNN when one has already been registered\n",
      "2024-09-30 15:11:12.770674: E external/local_xla/xla/stream_executor/cuda/cuda_blas.cc:1452] Unable to register cuBLAS factory: Attempting to register factory for plugin cuBLAS when one has already been registered\n",
      "2024-09-30 15:11:12.778465: I tensorflow/core/platform/cpu_feature_guard.cc:210] This TensorFlow binary is optimized to use available CPU instructions in performance-critical operations.\n",
      "To enable the following instructions: AVX2 FMA, in other operations, rebuild TensorFlow with the appropriate compiler flags.\n",
      "2024-09-30 15:11:13.487511: W tensorflow/compiler/tf2tensorrt/utils/py_utils.cc:38] TF-TRT Warning: Could not find TensorRT\n"
     ]
    }
   ],
   "source": [
    "import tensorflow as tf\n",
    "import numpy as np\n",
    "from datasets import load_dataset, DatasetDict\n",
    "from tqdm import tqdm"
   ]
  },
  {
   "cell_type": "code",
   "execution_count": 5,
   "id": "a6b9615ffef7cb65",
   "metadata": {
    "ExecuteTime": {
     "end_time": "2024-09-29T01:21:56.508472Z",
     "start_time": "2024-09-29T01:21:53.020648Z"
    }
   },
   "outputs": [],
   "source": [
    "ds = load_dataset(\"jlbaker361/wikiart\")"
   ]
  },
  {
   "cell_type": "code",
   "execution_count": 6,
   "id": "4dfbeefe19b6bc26",
   "metadata": {},
   "outputs": [],
   "source": [
    "# constants\n",
    "HEIGHT = 64\n",
    "WIDTH = 64\n",
    "CHANNELS = 3\n",
    "BATCH_SIZE = 32"
   ]
  },
  {
   "cell_type": "markdown",
   "id": "b32d89527e211835",
   "metadata": {},
   "source": [
    "# Image Size Normalization, Augumentation\n"
   ]
  },
  {
   "cell_type": "code",
   "execution_count": 33,
   "id": "328b9a999bc6521f",
   "metadata": {
    "ExecuteTime": {
     "end_time": "2024-09-29T01:24:49.663824Z",
     "start_time": "2024-09-29T01:24:18.356981Z"
    }
   },
   "outputs": [
    {
     "name": "stderr",
     "output_type": "stream",
     "text": [
      "Map (num_proc=4):   6%|▋         | 4605/73304 [00:05<02:00, 569.15 examples/s] "
     ]
    }
   ],
   "source": [
    "n_obs = 5000\n",
    "train_ds = ds['train'].select(range(n_obs))\n",
    "def convert_img(x):\n",
    "    import numpy as np  #subprocesses lmao\n",
    "    HEIGHT = 64\n",
    "    WIDTH = 64\n",
    "    x['img_pixels'] = np.array(x['image'].resize((WIDTH, HEIGHT))).reshape(-1)/255\n",
    "    return x\n",
    "\n",
    "train_ds = train_ds.map(convert_img, num_proc=4)\n",
    "train_ds = train_ds.filter(lambda x: len(x['img_pixels']) == HEIGHT*WIDTH*3)"
   ]
  },
  {
   "cell_type": "code",
   "execution_count": 10,
   "id": "e94b8a7f",
   "metadata": {},
   "outputs": [
    {
     "name": "stderr",
     "output_type": "stream",
     "text": [
      "100%|██████████| 4989/4989 [00:16<00:00, 294.68it/s]\n"
     ]
    },
    {
     "data": {
      "text/plain": [
       "['impressionism',\n",
       " 'mannerism-late-renaissance',\n",
       " 'expressionism',\n",
       " 'post-impressionism',\n",
       " 'early-renaissance',\n",
       " 'realism',\n",
       " 'fauvism',\n",
       " 'romanticism',\n",
       " 'art-nouveau-modern',\n",
       " 'symbolism',\n",
       " 'pop-art',\n",
       " 'baroque',\n",
       " 'abstract-expressionism',\n",
       " 'pointillism',\n",
       " 'na-ve-art-primitivism',\n",
       " 'rococo',\n",
       " 'northern-renaissance',\n",
       " 'cubism',\n",
       " 'minimalism',\n",
       " 'synthetic-cubism',\n",
       " 'high-renaissance',\n",
       " 'ukiyo-e',\n",
       " 'contemporary-realism',\n",
       " 'color-field-painting',\n",
       " 'analytical-cubism',\n",
       " 'new-realism',\n",
       " 'action-painting']"
      ]
     },
     "execution_count": 10,
     "metadata": {},
     "output_type": "execute_result"
    }
   ],
   "source": [
    "# one-hot-encoding\n",
    "# get unique class names\n",
    "\n",
    "def get_unique_styles(train_ds: DatasetDict):\n",
    "    unique_style_list = []\n",
    "    for x in tqdm(train_ds):\n",
    "        if x['style'] not in unique_style_list:\n",
    "            unique_style_list.append(x['style'])\n",
    "    return unique_style_list\n",
    "\n",
    "def style2idx(style, style_list):\n",
    "    return style_list.index(style)\n",
    "\n",
    "unique_styles = get_unique_styles(train_ds)\n",
    "unique_styles\n"
   ]
  },
  {
   "cell_type": "code",
   "execution_count": 27,
   "id": "b189c2dc",
   "metadata": {},
   "outputs": [
    {
     "name": "stderr",
     "output_type": "stream",
     "text": [
      "Map (num_proc=4): 100%|██████████| 4989/4989 [00:00<00:00, 8616.69 examples/s]\n"
     ]
    }
   ],
   "source": [
    "# for cnn\n",
    "def encode_labels_cnn(x, unique_labels):\n",
    "    x['y'] = np.zeros(len(unique_labels), dtype=np.int32)\n",
    "    x['y'][style2idx(x['style'], unique_labels)] = 1\n",
    "    return x\n",
    "\n",
    "# for other clfs\n",
    "def encode_labels(x, unique_labels):\n",
    "    x['y'] = style2idx(x['style'], unique_labels)\n",
    "    return x\n",
    "\n",
    "train_ds = train_ds.map(lambda x: encode_labels(x, unique_styles), num_proc=4)"
   ]
  },
  {
   "cell_type": "code",
   "execution_count": 31,
   "id": "36b41fce",
   "metadata": {},
   "outputs": [
    {
     "data": {
      "text/plain": [
       "0"
      ]
     },
     "execution_count": 31,
     "metadata": {},
     "output_type": "execute_result"
    }
   ],
   "source": []
  },
  {
   "cell_type": "code",
   "execution_count": 32,
   "id": "b3c2e3b1",
   "metadata": {},
   "outputs": [
    {
     "name": "stderr",
     "output_type": "stream",
     "text": [
      "Saving the dataset (1/1 shards): 100%|██████████| 4989/4989 [00:00<00:00, 9157.70 examples/s] \n"
     ]
    }
   ],
   "source": [
    "processed_ds = train_ds.remove_columns(['image', 'text', 'name', 'gen_style'])\n",
    "SAVE_DIR = '../processed_data'\n",
    "processed_ds.save_to_disk(SAVE_DIR)\n"
   ]
  },
  {
   "cell_type": "code",
   "execution_count": 26,
   "id": "b3db0294",
   "metadata": {},
   "outputs": [
    {
     "data": {
      "text/plain": [
       "Dataset({\n",
       "    features: ['style', 'img_pixels', 'y'],\n",
       "    num_rows: 4989\n",
       "})"
      ]
     },
     "execution_count": 26,
     "metadata": {},
     "output_type": "execute_result"
    }
   ],
   "source": [
    "processed_ds"
   ]
  },
  {
   "cell_type": "code",
   "execution_count": 16,
   "id": "d6639a03800bce78",
   "metadata": {
    "ExecuteTime": {
     "end_time": "2024-09-29T01:32:37.081356Z",
     "start_time": "2024-09-29T01:31:08.533434Z"
    }
   },
   "outputs": [
    {
     "data": {
      "application/vnd.jupyter.widget-view+json": {
       "model_id": "188de21215384aa0b27b44ccc5a7cda9",
       "version_major": 2,
       "version_minor": 0
      },
      "text/plain": [
       "Map:   0%|          | 0/4989 [00:00<?, ? examples/s]"
      ]
     },
     "metadata": {},
     "output_type": "display_data"
    }
   ],
   "source": [
    "def augment_with_tf(image):\n",
    "    image = tf.reshape(image, [HEIGHT, WIDTH, CHANNELS])\n",
    "    image = tf.image.random_flip_left_right(image)\n",
    "    image = tf.image.rot90(image, k=tf.random.uniform(shape=[], minval=0, maxval=4, dtype=tf.int32))\n",
    "    image = tf.image.random_brightness(image, max_delta=0.1)\n",
    "    image = tf.image.random_contrast(image, lower=0.8, upper=1.2)\n",
    "    return image\n"
   ]
  },
  {
   "cell_type": "code",
   "execution_count": null,
   "id": "71b75aefeb546def",
   "metadata": {},
   "outputs": [],
   "source": [
    "def preprocess_and_augment(examples):\n",
    "    examples['img_pixels'] = [augment_with_tf(img) for img in examples['img_pixels']]\n",
    "    return examples"
   ]
  },
  {
   "cell_type": "code",
   "execution_count": null,
   "id": "4b049acc994bdc71",
   "metadata": {},
   "outputs": [],
   "source": [
    "train_ds_augmented = train_ds.map(preprocess_and_augment, batched=True)"
   ]
  },
  {
   "cell_type": "code",
   "execution_count": null,
   "id": "4687ba6829866fe7",
   "metadata": {},
   "outputs": [],
   "source": [
    "def preprocess_batch(ds, batch_size=BATCH_SIZE):\n",
    "    def generator():\n",
    "        for row in ds:\n",
    "            yield row['img_pixels'], row['label']\n",
    "    dataset = tf.data.Dataset.from_generator(\n",
    "        generator, \n",
    "        output_signature=(\n",
    "            tf.TensorSpec(shape=(HEIGHT, WIDTH, CHANNELS), dtype=tf.float32),  # Image shape\n",
    "            tf.TensorSpec(shape=(), dtype=tf.int64)  # Label shape\n",
    "        )\n",
    "    )\n",
    "    dataset = dataset.shuffle(buffer_size=1000).batch(batch_size)\n",
    "    return dataset"
   ]
  },
  {
   "cell_type": "code",
   "execution_count": null,
   "id": "8d8a9648e7a1c7f4",
   "metadata": {},
   "outputs": [],
   "source": [
    "train_dataset = preprocess_batch(train_ds_augmented)"
   ]
  },
  {
   "cell_type": "code",
   "execution_count": 17,
   "id": "9d59db9d61c82dfa",
   "metadata": {
    "ExecuteTime": {
     "end_time": "2024-09-29T01:33:08.348370Z",
     "start_time": "2024-09-29T01:33:08.344208Z"
    }
   },
   "outputs": [
    {
     "data": {
      "text/plain": [
       "<_BatchDataset element_spec=(TensorSpec(shape=(None, 64, 64, 3), dtype=tf.float32, name=None), TensorSpec(shape=(None,), dtype=tf.int64, name=None))>"
      ]
     },
     "execution_count": 17,
     "metadata": {},
     "output_type": "execute_result"
    }
   ],
   "source": [
    "train_dataset"
   ]
  }
 ],
 "metadata": {
  "kernelspec": {
   "display_name": "Python 3",
   "language": "python",
   "name": "python3"
  },
  "language_info": {
   "codemirror_mode": {
    "name": "ipython",
    "version": 3
   },
   "file_extension": ".py",
   "mimetype": "text/x-python",
   "name": "python",
   "nbconvert_exporter": "python",
   "pygments_lexer": "ipython3",
   "version": "3.10.13"
  }
 },
 "nbformat": 4,
 "nbformat_minor": 5
}
